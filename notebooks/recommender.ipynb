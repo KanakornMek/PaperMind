{
 "cells": [
  {
   "cell_type": "code",
   "execution_count": 13,
   "metadata": {},
   "outputs": [],
   "source": [
    "import pandas as pd\n",
    "from sklearn.feature_extraction.text import TfidfVectorizer\n",
    "from sklearn.metrics.pairwise import cosine_similarity"
   ]
  },
  {
   "cell_type": "code",
   "execution_count": 2,
   "metadata": {},
   "outputs": [],
   "source": [
    "df = pd.read_csv('C:/Users/ASUS/Documents/data_preprocessed_1.csv')"
   ]
  },
  {
   "cell_type": "code",
   "execution_count": 7,
   "metadata": {},
   "outputs": [
    {
     "name": "stdout",
     "output_type": "stream",
     "text": [
      "title               1\n",
      "abstract         1469\n",
      "authkeywords    17872\n",
      "category            0\n",
      "texts               0\n",
      "dtype: int64\n"
     ]
    }
   ],
   "source": [
    "#check if null\n",
    "print(df.isnull().sum())"
   ]
  },
  {
   "cell_type": "code",
   "execution_count": 8,
   "metadata": {},
   "outputs": [],
   "source": [
    "df['texts'] = df['title'].fillna('') + \" \" + df['abstract'].fillna('') + \" \" + df['authkeywords'].fillna('').apply(lambda x: ' '.join(x) if isinstance(x, list) else x)"
   ]
  },
  {
   "cell_type": "code",
   "execution_count": 15,
   "metadata": {},
   "outputs": [],
   "source": [
    "tfidf_vectorizer = TfidfVectorizer(stop_words='english', max_features=5000)\n",
    "\n",
    "tfidf_matrix = tfidf_vectorizer.fit_transform(df['texts'])\n"
   ]
  },
  {
   "cell_type": "code",
   "execution_count": 20,
   "metadata": {},
   "outputs": [
    {
     "data": {
      "text/html": [
       "<div>\n",
       "<style scoped>\n",
       "    .dataframe tbody tr th:only-of-type {\n",
       "        vertical-align: middle;\n",
       "    }\n",
       "\n",
       "    .dataframe tbody tr th {\n",
       "        vertical-align: top;\n",
       "    }\n",
       "\n",
       "    .dataframe thead th {\n",
       "        text-align: right;\n",
       "    }\n",
       "</style>\n",
       "<table border=\"1\" class=\"dataframe\">\n",
       "  <thead>\n",
       "    <tr style=\"text-align: right;\">\n",
       "      <th></th>\n",
       "      <th>title</th>\n",
       "      <th>abstract</th>\n",
       "    </tr>\n",
       "  </thead>\n",
       "  <tbody>\n",
       "    <tr>\n",
       "      <th>22529</th>\n",
       "      <td>Machine learning: Applications in ophthalmology</td>\n",
       "      <td>NaN</td>\n",
       "    </tr>\n",
       "    <tr>\n",
       "      <th>22524</th>\n",
       "      <td>Machine learning in medicine-focus on radiology</td>\n",
       "      <td>NaN</td>\n",
       "    </tr>\n",
       "    <tr>\n",
       "      <th>19434</th>\n",
       "      <td>Editorial: Machine and deep-learning for compu...</td>\n",
       "      <td>NaN</td>\n",
       "    </tr>\n",
       "    <tr>\n",
       "      <th>22756</th>\n",
       "      <td>A perspective on machine learning for autonomo...</td>\n",
       "      <td>NaN</td>\n",
       "    </tr>\n",
       "    <tr>\n",
       "      <th>29937</th>\n",
       "      <td>Understanding Machine Learning Paradigms throu...</td>\n",
       "      <td>This tutorial investigates the convergence of ...</td>\n",
       "    </tr>\n",
       "  </tbody>\n",
       "</table>\n",
       "</div>"
      ],
      "text/plain": [
       "                                                   title  \\\n",
       "22529    Machine learning: Applications in ophthalmology   \n",
       "22524    Machine learning in medicine-focus on radiology   \n",
       "19434  Editorial: Machine and deep-learning for compu...   \n",
       "22756  A perspective on machine learning for autonomo...   \n",
       "29937  Understanding Machine Learning Paradigms throu...   \n",
       "\n",
       "                                                abstract  \n",
       "22529                                                NaN  \n",
       "22524                                                NaN  \n",
       "19434                                                NaN  \n",
       "22756                                                NaN  \n",
       "29937  This tutorial investigates the convergence of ...  "
      ]
     },
     "metadata": {},
     "output_type": "display_data"
    }
   ],
   "source": [
    "def recommend_papers(input_text, tfidf_matrix, data, top_k=5):\n",
    "    # Transform the input text using the same TF-IDF vectorizer\n",
    "    input_vector = tfidf_vectorizer.transform([input_text])\n",
    "    \n",
    "    # Compute cosine similarity between the input text and all papers\n",
    "    cosine_similarities = cosine_similarity(input_vector, tfidf_matrix).flatten()\n",
    "    \n",
    "    # Get the indices of the top_k most similar papers\n",
    "    similar_indices = cosine_similarities.argsort()[-top_k:][::-1]\n",
    "    \n",
    "    # Retrieve the most similar papers\n",
    "    similar_papers = data.iloc[similar_indices]\n",
    "    \n",
    "    return similar_papers\n",
    "\n",
    "# Example usage\n",
    "input_text = \"machine learning\"\n",
    "recommended_papers = recommend_papers(input_text, tfidf_matrix, df)\n",
    "\n",
    "display(recommended_papers[['title', 'abstract']])\n"
   ]
  }
 ],
 "metadata": {
  "kernelspec": {
   "display_name": "datasci",
   "language": "python",
   "name": "python3"
  },
  "language_info": {
   "codemirror_mode": {
    "name": "ipython",
    "version": 3
   },
   "file_extension": ".py",
   "mimetype": "text/x-python",
   "name": "python",
   "nbconvert_exporter": "python",
   "pygments_lexer": "ipython3",
   "version": "3.12.7"
  }
 },
 "nbformat": 4,
 "nbformat_minor": 2
}
